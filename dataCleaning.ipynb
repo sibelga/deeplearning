{
 "cells": [
  {
   "cell_type": "code",
   "execution_count": 1,
   "metadata": {
    "collapsed": true
   },
   "outputs": [],
   "source": [
    "import pandas as pd\n",
    "import numpy as np"
   ]
  },
  {
   "cell_type": "code",
   "execution_count": 6,
   "metadata": {
    "collapsed": true
   },
   "outputs": [],
   "source": [
    "df = pd.read_csv('deeplearning/artsy.net_data_painting.csv',names=['artist', 'art_name', 'price_range', 'size', 'category'], encoding='latin-1')"
   ]
  },
  {
   "cell_type": "code",
   "execution_count": 7,
   "metadata": {},
   "outputs": [
    {
     "data": {
      "text/html": [
       "<div>\n",
       "<style>\n",
       "    .dataframe thead tr:only-child th {\n",
       "        text-align: right;\n",
       "    }\n",
       "\n",
       "    .dataframe thead th {\n",
       "        text-align: left;\n",
       "    }\n",
       "\n",
       "    .dataframe tbody tr th {\n",
       "        vertical-align: top;\n",
       "    }\n",
       "</style>\n",
       "<table border=\"1\" class=\"dataframe\">\n",
       "  <thead>\n",
       "    <tr style=\"text-align: right;\">\n",
       "      <th></th>\n",
       "      <th>artist</th>\n",
       "      <th>art_name</th>\n",
       "      <th>price_range</th>\n",
       "      <th>size</th>\n",
       "      <th>category</th>\n",
       "    </tr>\n",
       "  </thead>\n",
       "  <tbody>\n",
       "    <tr>\n",
       "      <th>0</th>\n",
       "      <td>Hans Witschi</td>\n",
       "      <td>Eidolon Nr. 20</td>\n",
       "      <td>1000;2000</td>\n",
       "      <td>1;12</td>\n",
       "      <td>Painting</td>\n",
       "    </tr>\n",
       "    <tr>\n",
       "      <th>1</th>\n",
       "      <td>Hans Witschi</td>\n",
       "      <td>Eidolon Nr. 9</td>\n",
       "      <td>1000;2000</td>\n",
       "      <td>1;12</td>\n",
       "      <td>Painting</td>\n",
       "    </tr>\n",
       "    <tr>\n",
       "      <th>2</th>\n",
       "      <td>Hans Witschi</td>\n",
       "      <td>Eidolon Nr. 5</td>\n",
       "      <td>1000;2000</td>\n",
       "      <td>1;12</td>\n",
       "      <td>Painting</td>\n",
       "    </tr>\n",
       "    <tr>\n",
       "      <th>3</th>\n",
       "      <td>Hans Witschi</td>\n",
       "      <td>Eidolon Nr. 6</td>\n",
       "      <td>1000;2000</td>\n",
       "      <td>1;12</td>\n",
       "      <td>Painting</td>\n",
       "    </tr>\n",
       "    <tr>\n",
       "      <th>4</th>\n",
       "      <td>Hans Witschi</td>\n",
       "      <td>Eidolon Nr. 11</td>\n",
       "      <td>1000;2000</td>\n",
       "      <td>1;12</td>\n",
       "      <td>Painting</td>\n",
       "    </tr>\n",
       "  </tbody>\n",
       "</table>\n",
       "</div>"
      ],
      "text/plain": [
       "         artist        art_name price_range  size  category\n",
       "0  Hans Witschi  Eidolon Nr. 20   1000;2000  1;12  Painting\n",
       "1  Hans Witschi   Eidolon Nr. 9   1000;2000  1;12  Painting\n",
       "2  Hans Witschi   Eidolon Nr. 5   1000;2000  1;12  Painting\n",
       "3  Hans Witschi   Eidolon Nr. 6   1000;2000  1;12  Painting\n",
       "4  Hans Witschi  Eidolon Nr. 11   1000;2000  1;12  Painting"
      ]
     },
     "execution_count": 7,
     "metadata": {},
     "output_type": "execute_result"
    }
   ],
   "source": [
    "df.head(5)"
   ]
  },
  {
   "cell_type": "code",
   "execution_count": null,
   "metadata": {
    "collapsed": true
   },
   "outputs": [],
   "source": []
  }
 ],
 "metadata": {
  "kernelspec": {
   "display_name": "Python 3",
   "language": "python",
   "name": "python3"
  },
  "language_info": {
   "codemirror_mode": {
    "name": "ipython",
    "version": 3
   },
   "file_extension": ".py",
   "mimetype": "text/x-python",
   "name": "python",
   "nbconvert_exporter": "python",
   "pygments_lexer": "ipython3",
   "version": "3.6.3"
  }
 },
 "nbformat": 4,
 "nbformat_minor": 2
}
